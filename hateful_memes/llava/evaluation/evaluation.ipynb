{
 "cells": [
  {
   "cell_type": "markdown",
   "metadata": {},
   "source": [
    "# LLaVA evaluation\n",
    "This notebook performs simple evaluation of the results of LLaVA finetuning. It calculates metrics scores (AUC ROC, Accuracy) on both train and test sets."
   ]
  },
  {
   "cell_type": "code",
   "execution_count": 1,
   "metadata": {},
   "outputs": [],
   "source": [
    "import numpy as np\n",
    "import pandas as pd\n",
    "from sklearn.metrics import accuracy_score, roc_auc_score, precision_score, recall_score, f1_score\n",
    "from warnings import filterwarnings\n",
    "filterwarnings('ignore')"
   ]
  },
  {
   "cell_type": "markdown",
   "metadata": {},
   "source": [
    "Train set"
   ]
  },
  {
   "cell_type": "code",
   "execution_count": 12,
   "metadata": {},
   "outputs": [
    {
     "name": "stdout",
     "output_type": "stream",
     "text": [
      "Accuracy: 0.9998823529411764\n",
      "AUC: 0.9998343822457767\n"
     ]
    }
   ],
   "source": [
    "# with finetuning\n",
    "data = pd.read_json('../../../data/llava/train_predictions_finetuned.json')\n",
    "assert all(data['prediction'].isin(['Yes', 'No']))\n",
    "data['label_pred'] = np.where(data['prediction'] == 'Yes', 1, 0)\n",
    "\n",
    "y = data['label']\n",
    "y_pred = data['label_pred'].astype('Int64')\n",
    "\n",
    "print('Accuracy:', accuracy_score(y, y_pred))\n",
    "print('AUC:', roc_auc_score(y, y_pred))"
   ]
  },
  {
   "cell_type": "markdown",
   "metadata": {},
   "source": [
    "Test set (*dev_seen*)"
   ]
  },
  {
   "cell_type": "code",
   "execution_count": 10,
   "metadata": {},
   "outputs": [
    {
     "name": "stdout",
     "output_type": "stream",
     "text": [
      "Accuracy: 0.584\n",
      "AUC: 0.5824038661567266\n"
     ]
    }
   ],
   "source": [
    "# without finetuning\n",
    "test_original = pd.read_json('../../../data/llava/dev_seen_predictions_not_finetuned.json')\n",
    "assert all(test_original['prediction'].isin(['Yes', 'No']))\n",
    "test_original['label_pred'] = np.where(test_original['prediction'] == 'Yes', 1, 0)\n",
    "\n",
    "y = test_original['label']\n",
    "y_pred = test_original['label_pred'].astype('Int64')\n",
    "\n",
    "print('Accuracy:', accuracy_score(y, y_pred))\n",
    "print('AUC:', roc_auc_score(y, y_pred))"
   ]
  },
  {
   "cell_type": "code",
   "execution_count": 11,
   "metadata": {},
   "outputs": [
    {
     "name": "stdout",
     "output_type": "stream",
     "text": [
      "Accuracy: 0.714\n",
      "AUC: 0.711870509353347\n"
     ]
    }
   ],
   "source": [
    "test_finetuned = pd.read_json('../../../data/llava/dev_seen_predictions_finetuned.json')\n",
    "assert all(test_finetuned['prediction'].isin(['Yes', 'No']))\n",
    "test_finetuned['label_pred'] = np.where(test_finetuned['prediction'] == 'Yes', 1, 0)\n",
    "\n",
    "y = test_finetuned['label']\n",
    "y_pred = test_finetuned['label_pred'].astype('Int64')\n",
    "\n",
    "print('Accuracy:', accuracy_score(y, y_pred))\n",
    "print('AUC:', roc_auc_score(y, y_pred))"
   ]
  },
  {
   "cell_type": "code",
   "execution_count": null,
   "metadata": {},
   "outputs": [],
   "source": []
  }
 ],
 "metadata": {
  "kernelspec": {
   "display_name": ".venv",
   "language": "python",
   "name": "python3"
  },
  "language_info": {
   "codemirror_mode": {
    "name": "ipython",
    "version": 3
   },
   "file_extension": ".py",
   "mimetype": "text/x-python",
   "name": "python",
   "nbconvert_exporter": "python",
   "pygments_lexer": "ipython3",
   "version": "3.10.10"
  }
 },
 "nbformat": 4,
 "nbformat_minor": 2
}
