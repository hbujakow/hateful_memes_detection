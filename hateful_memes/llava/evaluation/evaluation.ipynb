{
 "cells": [
  {
   "cell_type": "code",
   "execution_count": 4,
   "metadata": {},
   "outputs": [],
   "source": [
    "import numpy as np\n",
    "import pandas as pd\n",
    "from sklearn.metrics import accuracy_score, roc_auc_score\n",
    "from warnings import filterwarnings\n",
    "filterwarnings('ignore')"
   ]
  },
  {
   "cell_type": "markdown",
   "metadata": {},
   "source": [
    "Inference on LLaVA"
   ]
  },
  {
   "cell_type": "code",
   "execution_count": 5,
   "metadata": {},
   "outputs": [
    {
     "name": "stdout",
     "output_type": "stream",
     "text": [
      "Accuracy: 0.584\n",
      "AUC: 0.5824038661567266\n"
     ]
    }
   ],
   "source": [
    "# without finetuning\n",
    "data = pd.read_json('../../data/dev_seen_predictions.json')\n",
    "data['label_pred'] = np.where(data['prediction'] == 'Yes', 1, 0)\n",
    "y = data['label']\n",
    "y_pred = data['label_pred'].astype('Int64')\n",
    "print('Accuracy:', accuracy_score(y, y_pred))\n",
    "print('AUC:', roc_auc_score(y, y_pred))"
   ]
  },
  {
   "cell_type": "code",
   "execution_count": 7,
   "metadata": {},
   "outputs": [
    {
     "name": "stdout",
     "output_type": "stream",
     "text": [
      "Accuracy: 0.554\n",
      "AUC: 0.5495431342113264\n"
     ]
    }
   ],
   "source": [
    "# with finetuning\n",
    "data_finetuned = pd.read_json('../../data/dev_seen_predictions_finetuned.json')\n",
    "data_finetuned['label_pred'] = np.where(data_finetuned['prediction'] == 'Yes', 1, 0)\n",
    "y = data_finetuned['label']\n",
    "y_pred = data_finetuned['label_pred'].astype('Int64')\n",
    "print('Accuracy:', accuracy_score(y, y_pred))\n",
    "print('AUC:', roc_auc_score(y, y_pred))"
   ]
  }
 ],
 "metadata": {
  "kernelspec": {
   "display_name": ".venv",
   "language": "python",
   "name": "python3"
  },
  "language_info": {
   "codemirror_mode": {
    "name": "ipython",
    "version": 3
   },
   "file_extension": ".py",
   "mimetype": "text/x-python",
   "name": "python",
   "nbconvert_exporter": "python",
   "pygments_lexer": "ipython3",
   "version": "3.10.10"
  }
 },
 "nbformat": 4,
 "nbformat_minor": 2
}
