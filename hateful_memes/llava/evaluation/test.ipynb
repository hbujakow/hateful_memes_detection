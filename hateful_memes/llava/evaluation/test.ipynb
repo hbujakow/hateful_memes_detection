{
 "cells": [
  {
   "cell_type": "code",
   "execution_count": 9,
   "metadata": {},
   "outputs": [],
   "source": [
    "import numpy as np\n",
    "import pandas as pd\n",
    "from sklearn.metrics import accuracy_score, roc_auc_score, precision_score, recall_score, f1_score\n",
    "from warnings import filterwarnings\n",
    "filterwarnings('ignore')"
   ]
  },
  {
   "cell_type": "markdown",
   "metadata": {},
   "source": [
    "Inference on LLaVA"
   ]
  },
  {
   "cell_type": "code",
   "execution_count": 11,
   "metadata": {},
   "outputs": [
    {
     "name": "stdout",
     "output_type": "stream",
     "text": [
      "Accuracy: 0.584\n",
      "AUC: 0.5824038661567266\n",
      "F1: 0.5763962464300285\n",
      "Precision: 0.5885541707607178\n",
      "Recall: 0.584\n"
     ]
    }
   ],
   "source": [
    "# without finetuning\n",
    "data = pd.read_json('../../../data/dev_seen_predictions.json')\n",
    "data['label_pred'] = np.where(data['prediction'] == 'Yes', 1, 0)\n",
    "y = data['label']\n",
    "y_pred = data['label_pred'].astype('Int64')\n",
    "print('Accuracy:', accuracy_score(y, y_pred))\n",
    "print('AUC:', roc_auc_score(y, y_pred))\n",
    "print(\"F1:\", f1_score(y, y_pred, average=\"weighted\"))\n",
    "print(\"Precision:\", precision_score(y, y_pred, average=\"weighted\"))\n",
    "print(\"Recall:\", recall_score(y, y_pred, average=\"weighted\"))"
   ]
  },
  {
   "cell_type": "code",
   "execution_count": 10,
   "metadata": {},
   "outputs": [
    {
     "name": "stdout",
     "output_type": "stream",
     "text": [
      "Accuracy: 0.714\n",
      "AUC: 0.711870509353347\n",
      "F1: 0.7044121963447428\n",
      "Precision: 0.7424029411764704\n",
      "Recall: 0.714\n"
     ]
    }
   ],
   "source": [
    "# with finetuning\n",
    "data_finetuned = pd.read_json('../../../data/dev_seen_predictions_finetuned_10_epochs.json')\n",
    "data_finetuned['label_pred'] = np.where(data_finetuned['prediction'] == 'Yes', 1, 0)\n",
    "y = data_finetuned['label']\n",
    "y_pred = data_finetuned['label_pred'].astype('Int64')\n",
    "print('Accuracy:', accuracy_score(y, y_pred))\n",
    "print('AUC:', roc_auc_score(y, y_pred))\n",
    "print(\"F1:\", f1_score(y, y_pred, average=\"weighted\"))\n",
    "print(\"Precision:\", precision_score(y, y_pred, average=\"weighted\"))\n",
    "print(\"Recall:\", recall_score(y, y_pred, average=\"weighted\"))"
   ]
  },
  {
   "cell_type": "code",
   "execution_count": null,
   "metadata": {},
   "outputs": [],
   "source": []
  }
 ],
 "metadata": {
  "kernelspec": {
   "display_name": ".venv",
   "language": "python",
   "name": "python3"
  },
  "language_info": {
   "codemirror_mode": {
    "name": "ipython",
    "version": 3
   },
   "file_extension": ".py",
   "mimetype": "text/x-python",
   "name": "python",
   "nbconvert_exporter": "python",
   "pygments_lexer": "ipython3",
   "version": "3.10.10"
  }
 },
 "nbformat": 4,
 "nbformat_minor": 2
}
